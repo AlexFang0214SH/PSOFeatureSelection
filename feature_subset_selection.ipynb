{
 "cells": [
  {
   "cell_type": "markdown",
   "metadata": {},
   "source": [
    "# Feature Subset Selection\n",
    "In this example, we'll be using the optimizer `pyswarms.discrete.BinaryPSO` to perform feature subset selection to improve classifier performance. But before we jump right on to the coding, let's first explain some relevant concepts:"
   ]
  },
  {
   "cell_type": "markdown",
   "metadata": {},
   "source": [
    "## A short primer on feature selection\n",
    "\n",
    "The idea for feature subset selection is to be able to find the best features that are suitable to the classification task. We must understand that not all features are created equal, and some may be more relevant than others. Thus, if we're given an array of features, how can we know the most optimal subset? (yup, this is a rhetorical question!)\n",
    "\n",
    "For a Binary PSO, the position of the particles are expressed in two terms: `1` or `0` (or on and off). If we have a particle $x$ on $d$-dimensions, then its position can be defined as:\n",
    "\n",
    "$$x = [x_1, x_2, x_3, \\dots, x_d] ~~~\\text{where}~~~ x_i \\in {0,1}$$\n",
    "\n",
    "In this case, the position of the particle for each dimension can be seen as a simple matter of on and off. \n",
    "\n",
    "### Feature selection and the objective function\n",
    "\n",
    "Now, suppose that we're given a dataset with $d$ features. What we'll do is that we're going to _assign each feature as a dimension of a particle_. Hence, once we've implemented Binary PSO and obtained the best position, we can then interpret the\n",
    "binary array (as seen in the equation above) simply as turning a feature on and off. \n",
    "\n",
    "As an example, suppose we have a dataset with 5 features, and the final best position of the PSO is:\n",
    "\n",
    "```python\n",
    ">>> optimizer.best_pos\n",
    "np.array([0, 1, 1, 1, 0])\n",
    ">>> optimizer.best_cost\n",
    "0.00\n",
    "```\n",
    "\n",
    "Then this means that the second, third, and fourth (or first, second, and third in zero-index) that are turned on are the selected features for the dataset. We can then train our classifier using only these features while dropping the others. How do we then define our objective function? (Yes, another rhetorical question!). We can design our own, but for now I'll be taking an equation from the works of [Vieira, Mendoca, Sousa, et al. (2013)](http://www.sciencedirect.com/science/article/pii/S1568494613001361).\n",
    "\n",
    "$$f(X) = \\alpha(1-P) + (1-\\alpha) \\left(1 - \\dfrac{N_f}{N_t}\\right)$$\n",
    "\n",
    "Where $\\alpha$ is a hyperparameter that decides the tradeoff between the classifier performance $P$, and the size of the feature subset $N_f$ with respect to the total number of features $N_t$. The classifier performance can be the accuracy, F-score, precision, and so on."
   ]
  },
  {
   "cell_type": "code",
   "execution_count": 1,
   "metadata": {
    "collapsed": true
   },
   "outputs": [],
   "source": [
    "import sys\n",
    "sys.path.append('../')"
   ]
  },
  {
   "cell_type": "code",
   "execution_count": 2,
   "metadata": {
    "collapsed": true
   },
   "outputs": [],
   "source": [
    "# Import modules\n",
    "import numpy as np\n",
    "import seaborn as sns\n",
    "import pandas as pd\n",
    "from sklearn.model_selection import cross_val_score\n",
    "\n",
    "# Import PySwarms\n",
    "import pyswarms as ps\n",
    "\n",
    "# Some more magic so that the notebook will reload external python modules;\n",
    "# see http://stackoverflow.com/questions/1907993/autoreload-of-modules-in-ipython\n",
    "%load_ext autoreload\n",
    "%autoreload 2\n",
    "%matplotlib inline"
   ]
  },
  {
   "cell_type": "markdown",
   "metadata": {},
   "source": [
    "### Generating a toy dataset using scikit-learn\n",
    "We'll be using `sklearn.datasets.make_classification` to generate a 100-sample, 15-dimensional dataset with three classes. We will then plot the distribution of the features in order to give us a qualitative assessment of the feature-space.\n",
    "\n",
    "For our toy dataset, we will be rigging some parameters a bit. Out of the 10 features, we'll have only 5 that are informative, 5 that are redundant, and 2 that are repeated. Hopefully, we get to have Binary PSO select those that are informative, and prune those that are redundant or repeated."
   ]
  },
  {
   "cell_type": "code",
   "execution_count": 100,
   "metadata": {
    "collapsed": true
   },
   "outputs": [],
   "source": [
    "from sklearn.datasets import make_classification\n",
    "from sklearn.model_selection import train_test_split\n",
    "\n",
    "X, y = make_classification(n_samples=500, n_features=20, n_classes=2, \n",
    "                           n_informative=5, n_redundant=0, n_repeated=0, \n",
    "                           random_state=None, shuffle=True)\n",
    "\n",
    "#X, X_test, y, y_test = train_test_split(X, y, test_size=0.20, random_state=None)\n",
    "#X, y = make_classification(n_samples=100, n_features=15, n_classes=3,\n",
    "#                           n_informative=4, n_redundant=1, n_repeated=2,\n",
    "#                           random_state=1)"
   ]
  },
  {
   "cell_type": "code",
   "execution_count": 101,
   "metadata": {
    "collapsed": true
   },
   "outputs": [],
   "source": [
    "# Plot toy dataset per feature\n",
    "df = pd.DataFrame(X)\n",
    "df['labels'] = pd.Series(y)\n",
    "\n",
    "#sns.pairplot(df, hue='labels');"
   ]
  },
  {
   "cell_type": "markdown",
   "metadata": {},
   "source": [
    "As we can see, there are some features that causes the two classes to overlap with one another. These might be features that are better off unselected. On the other hand, we can see some feature combinations where the two classes are shown to be clearly separated. These features can hopefully be retained and selected by the binary PSO algorithm."
   ]
  },
  {
   "cell_type": "markdown",
   "metadata": {},
   "source": [
    "We will then use a simple logistic regression technique using `sklearn.linear_model.LogisticRegression` to perform classification. A simple test of accuracy will be used to assess the performance of the classifier."
   ]
  },
  {
   "cell_type": "markdown",
   "metadata": {},
   "source": [
    "## Writing the custom-objective function\n",
    "As seen above, we can write our objective function by simply taking the performance of the classifier (in this case, the accuracy), and the size of the feature subset divided by the total (that is, divided by 10), to return an error in the data. We'll now write our custom-objective function"
   ]
  },
  {
   "cell_type": "code",
   "execution_count": 102,
   "metadata": {
    "collapsed": true
   },
   "outputs": [],
   "source": [
    "from sklearn import linear_model\n",
    "from sklearn.ensemble import RandomForestClassifier\n",
    "\n",
    "# Create an instance of the classifier\n",
    "classifier = linear_model.LogisticRegression()\n",
    "#classifier = RandomForestClassifier(n_estimators = 64,\n",
    "#                                    #max_features = 30,\n",
    "#                                    bootstrap = True,\n",
    "#                                    random_state = None)\n",
    "    \n",
    "#clf = forest\n",
    "#clf.fit(X_trainOhFeatures, y_train)\n",
    "#predictions = clf.predict(X_testOhFeatures)\n",
    "#accuracy = accuracy_score(y_test, predictions)\n",
    "\n",
    "\n",
    "# Define objective function\n",
    "def f_per_particle(m, alpha):\n",
    "    \"\"\"Computes for the objective function per particle\n",
    "\n",
    "    Inputs\n",
    "    ------\n",
    "    m : numpy.ndarray\n",
    "        Binary mask that can be obtained from BinaryPSO, will\n",
    "        be used to mask features.\n",
    "    alpha: float (default is 0.5)\n",
    "        Constant weight for trading-off classifier performance\n",
    "        and number of features\n",
    "\n",
    "    Returns\n",
    "    -------\n",
    "    numpy.ndarray\n",
    "        Computed objective function\n",
    "    \"\"\"\n",
    "    total_features = len(X[1])\n",
    "    # Get the subset of the features from the binary mask\n",
    "    if np.count_nonzero(m) == 0: \n",
    "        #if the particle subset is only zeros, get the original set of attributes\n",
    "        X_subset = X\n",
    "    else:\n",
    "        X_subset = X[:,m==1]\n",
    "        \n",
    "    #X_train, X_test, y_train, y_test = train_test_split(X_subset, y, test_size=0.20, random_state=None)\n",
    "    # Perform classification and store performance in P\n",
    "    #classifier.fit(X_train, y_train)\n",
    "    #P = (classifier.predict(X_test) == y_test).mean()\n",
    "    \n",
    "    scores = cross_val_score(classifier, X_subset, y, cv=3)\n",
    "    #print(\"Accuracy: %0.2f (+/- %0.2f)\" % (scores.mean(), scores.std() * 2))\n",
    "    \n",
    "    P = scores.mean()\n",
    "    particleScore.append(P)\n",
    "    particleSize.append(X_subset.shape[1])\n",
    "    # Compute for the objective function\n",
    "    j = (alpha * (1.0 - P)\n",
    "        + (1.0 - alpha) * (1 - (X_subset.shape[1] / total_features)))\n",
    "    \n",
    "    #j = (alpha * (1.0 - P)) + (1 - alpha) * (1 - (total_features - X_subset.shape[1]) / total_features)\n",
    "    #print(\"Particle j: \", j)\n",
    "    return j"
   ]
  },
  {
   "cell_type": "code",
   "execution_count": 103,
   "metadata": {
    "collapsed": true
   },
   "outputs": [],
   "source": [
    "def f(x, alpha=1):\n",
    "    \"\"\"Higher-level method to do classification in the\n",
    "    whole swarm.\n",
    "\n",
    "    Inputs\n",
    "    ------\n",
    "    x: numpy.ndarray of shape (n_particles, dimensions)\n",
    "        The swarm that will perform the search\n",
    "\n",
    "    Returns\n",
    "    -------\n",
    "    numpy.ndarray of shape (n_particles, )\n",
    "        The computed loss for each particle\n",
    "    \"\"\"\n",
    "    n_particles = x.shape[0]\n",
    "    j = [f_per_particle(x[i], alpha) for i in range(n_particles)]\n",
    "    #print(\"f j: \", j)\n",
    "    return np.array(j)"
   ]
  },
  {
   "cell_type": "markdown",
   "metadata": {},
   "source": [
    "## Using Binary PSO\n",
    "With everything set-up, we can now use Binary PSO to perform feature selection. For now, we'll be doing a global-best solution by setting the number of neighbors equal to the number of particles. The hyperparameters are also set arbitrarily. Moreso, we'll also be setting the distance metric as 2 (truth is, it's not really relevant because each particle will see one another)."
   ]
  },
  {
   "cell_type": "code",
   "execution_count": 120,
   "metadata": {
    "scrolled": false
   },
   "outputs": [
    {
     "name": "stdout",
     "output_type": "stream",
     "text": [
      "Started at:  2018-05-23 00:57:39.318421\n"
     ]
    },
    {
     "data": {
      "image/png": "[encoded data removed]",
      "text/plain": [
       "<matplotlib.figure.Figure at 0x136a24815f8>"
      ]
     },
     "metadata": {},
     "output_type": "display_data"
    },
    {
     "name": "stdout",
     "output_type": "stream",
     "text": [
      "0.18230574994589133 [1 0 0 1 1 1 0 0 0 0]\n",
      "Finished at:  2018-05-23 01:12:44.786466\n",
      "Total time spent:  0:15:05.468045\n"
     ]
    }
   ],
   "source": [
    "from datetime import datetime as dt\n",
    "import time\n",
    "from pyswarms.utils.environments import PlotEnvironment\n",
    "\n",
    "start = dt.now()\n",
    "print(\"Started at: \", str(start))\n",
    "particleScore = list()\n",
    "particleSize = list()\n",
    "#mySubsets = list()\n",
    "\n",
    "# Initialize swarm, arbitrary\n",
    "options = {'c1': 2, 'c2': 2, 'w':0.3, 'k': 20, 'p':2}\n",
    "\n",
    "# Call instance of PSO\n",
    "dimensions = len(X[1]) # dimensions should be the number of features\n",
    "#optimizer.reset()\n",
    "#optimizer = ps.single.GlobalBestPSO(n_particles=1, dimensions=dimensions,\n",
    "#                                    options=options)\n",
    "optimizer = ps.discrete.BinaryPSO(n_particles=20, dimensions=dimensions, options=options)\n",
    "\n",
    "# Perform optimization\n",
    "#cost, pos = optimizer.optimize(f, print_step=1, iters=10, verbose=2)\n",
    "\n",
    "\n",
    "# Initialize plot environment\n",
    "plt_env = PlotEnvironment(optimizer, f, 50)\n",
    "\n",
    "# Plot the cost\n",
    "plt_env.plot_cost(figsize=(8,6));\n",
    "plt.show()\n",
    "\n",
    "\n",
    "#print(cost,pos)\n",
    "end = dt.now()\n",
    "print(\"Finished at: \", str(end))\n",
    "total = end-start\n",
    "print(\"Total time spent: \", total)"
   ]
  },
  {
   "cell_type": "code",
   "execution_count": null,
   "metadata": {
    "collapsed": true
   },
   "outputs": [],
   "source": [
    "#http://pyswarms.readthedocs.io/en/latest/examples/visualization.html\n",
    "\n",
    "pos\n",
    "    "
   ]
  },
  {
   "cell_type": "code",
   "execution_count": 123,
   "metadata": {
    "scrolled": true
   },
   "outputs": [
    {
     "name": "stdout",
     "output_type": "stream",
     "text": [
      "[0.2447701  0.22505832 0.21195801 0.20215172 0.19205925 0.18205457\n",
      " 0.18604538 0.18445338 0.18225176 0.18045535 0.18255657 0.17535772\n",
      " 0.17855313 0.17505351 0.17385891 0.17345129 0.17245208 0.17075608\n",
      " 0.17035748 0.17165368 0.1732589  0.16814383 0.16834824 0.17065508\n",
      " 0.17185088 0.16925847 0.16365161 0.16624522 0.1628502  0.16344961\n",
      " 0.16095099 0.16074658 0.16114578 0.16275341 0.15995359 0.16075139\n",
      " 0.15725116 0.15515475 0.15134911 0.15355674 0.14955811 0.15414893\n",
      " 0.1505501  0.15086153 0.15246014 0.15064149 0.15075812 0.15035952\n",
      " 0.1490549  0.15135151]\n",
      "[[1 1 0 0 0 1 1 1 1 0 0 1 0 0 1 0 0 1 0 1]\n",
      " [1 1 1 0 1 1 1 0 0 0 1 0 1 1 0 1 1 1 0 1]\n",
      " [0 1 0 0 1 0 1 1 1 1 1 1 1 1 1 1 1 1 0 0]\n",
      " [0 1 0 1 1 0 1 0 0 1 1 1 1 1 0 1 0 1 1 0]\n",
      " [0 1 0 1 0 1 1 1 1 1 1 0 0 1 1 1 0 0 0 0]\n",
      " [1 1 0 0 0 1 0 1 1 0 1 1 1 0 0 1 1 0 1 1]\n",
      " [0 1 0 1 0 0 0 0 1 0 1 0 0 1 0 1 1 1 0 1]\n",
      " [1 0 1 1 0 0 1 1 1 1 0 1 1 1 0 1 0 1 1 0]\n",
      " [0 1 0 1 0 1 0 0 1 0 0 1 0 1 0 0 1 0 1 1]\n",
      " [0 1 1 1 0 1 1 1 1 0 1 1 1 1 0 0 1 1 1 0]\n",
      " [0 0 0 0 1 1 1 0 1 1 1 1 0 1 0 1 0 0 1 1]\n",
      " [1 1 1 1 1 1 0 0 1 1 1 1 0 1 1 1 0 0 0 1]\n",
      " [0 1 1 0 0 1 0 0 0 0 0 0 0 1 1 1 0 0 1 0]\n",
      " [0 1 0 1 1 1 0 0 1 0 0 1 1 1 1 1 1 1 0 0]\n",
      " [0 1 0 0 0 0 0 1 1 0 0 1 1 1 0 1 1 1 1 0]\n",
      " [1 1 0 0 0 1 1 1 1 1 1 0 0 0 1 0 1 1 1 1]\n",
      " [1 1 0 1 1 1 1 0 1 0 1 0 0 0 0 1 0 1 1 1]\n",
      " [0 1 0 1 0 1 1 1 1 1 1 1 0 0 0 0 0 0 1 1]\n",
      " [1 1 0 0 1 1 1 0 1 1 1 1 0 1 1 0 0 0 1 0]\n",
      " [0 0 0 1 0 1 0 0 1 1 0 1 0 1 0 1 0 0 1 1]]\n"
     ]
    }
   ],
   "source": [
    "print(optimizer.get_mean_pbest_history)\n",
    "print(optimizer.personal_best_pos)\n",
    "\n",
    "#mean_pbest_history\n",
    "\n",
    "#optimizer.get_pos_history\n",
    "#optimizer.get_velocity_history\n",
    "#optimizer.pos_history #subsets of attributes [iters[particles]]\n"
   ]
  },
  {
   "cell_type": "code",
   "execution_count": 118,
   "metadata": {},
   "outputs": [
    {
     "data": {
      "image/png": "[encoded data removed]",
      "text/plain": [
       "<matplotlib.figure.Figure at 0x136a247ab70>"
      ]
     },
     "metadata": {},
     "output_type": "display_data"
    }
   ],
   "source": [
    "import matplotlib.pyplot as plt #MatPlotLib usado para desenhar o gráfico criado com o NetworkX\n",
    "\n",
    "iterations = list(range(1,len(optimizer.get_cost_history)+1))\n",
    "plt.figure(figsize=(10,7))\n",
    "#plt.xlabel('2^i classes')\n",
    "plt.xlabel('Iterations')\n",
    "plt.ylabel('Error Rate')\n",
    "#get_cost_history #erro médio da iteracao\n",
    "#optimizer.mean_pbest_history #erro minimo pbest\n",
    "plt.plot(iterations, optimizer.mean_pbest_history, 'r', label='pBest') \n",
    "plt.plot(iterations, optimizer.get_cost_history, 'b', label='cost') \n",
    "plt.legend()\n",
    "#plt.legend(bbox_to_anchor=(1.05, 1), loc=2, borderaxespad=0.)\n",
    "plt.grid(True)\n",
    "\n",
    "\n",
    "#plt.savefig(\"D:/USP/2018-1/Computação Bioinspirada/Trabalhos/iterationVSerrorRate2.png\", format=\"PNG\")\n",
    "\n",
    "\n",
    "plt.show()"
   ]
  },
  {
   "cell_type": "code",
   "execution_count": 106,
   "metadata": {},
   "outputs": [
    {
     "data": {
      "image/png": "[encoded data removed]",
      "text/plain": [
       "<matplotlib.figure.Figure at 0x136a2e22fd0>"
      ]
     },
     "metadata": {},
     "output_type": "display_data"
    }
   ],
   "source": [
    "import matplotlib.pyplot as plt #MatPlotLib usado para desenhar o gráfico criado com o NetworkX\n",
    "\n",
    "#iterations = list(range(1,len(optimizer.get_cost_history)+1))\n",
    "plt.figure(figsize=(10,7))\n",
    "#plt.xlabel('2^i classes')\n",
    "plt.xlabel('subsetSize')\n",
    "plt.ylabel('Accuracy')\n",
    "plt.plot(particleSize, particleScore, 'bo')\n",
    "#plt.legend(bbox_to_anchor=(1.05, 1), loc=2, borderaxespad=0.)\n",
    "plt.grid(True)\n",
    "\n",
    "\n",
    "#plt.savefig(\"D:/USP/2018-1/Computação Bioinspirada/Trabalhos/iterationVSerrorRate2.png\", format=\"PNG\")\n",
    "\n",
    "\n",
    "plt.show()"
   ]
  },
  {
   "cell_type": "markdown",
   "metadata": {},
   "source": [
    "We can then train the classifier using the positions found by running another instance of logistic regression. We can compare the performance when we're using the full set of features"
   ]
  },
  {
   "cell_type": "code",
   "execution_count": 124,
   "metadata": {
    "scrolled": true
   },
   "outputs": [
    {
     "name": "stdout",
     "output_type": "stream",
     "text": [
      "Full set Accuracy: 0.87 (+/- 0.03)\n",
      "----------------------------------------------------------------------------\n",
      "Accuracy: 0.81 (+/- 0.07) [1 1 0 0 0 1 1 1 1 0 0 1 0 0 1 0 0 1 0 1]\n",
      "Accuracy: 0.86 (+/- 0.06) [1 1 1 0 1 1 1 0 0 0 1 0 1 1 0 1 1 1 0 1]\n",
      "Accuracy: 0.79 (+/- 0.08) [0 1 0 0 1 0 1 1 1 1 1 1 1 1 1 1 1 1 0 0]\n",
      "Accuracy: 0.83 (+/- 0.05) [0 1 0 1 1 0 1 0 0 1 1 1 1 1 0 1 0 1 1 0]\n",
      "Accuracy: 0.86 (+/- 0.06) [0 1 0 1 0 1 1 1 1 1 1 0 0 1 1 1 0 0 0 0]\n",
      "Accuracy: 0.87 (+/- 0.07) [1 1 0 0 0 1 0 1 1 0 1 1 1 0 0 1 1 0 1 1]\n",
      "Accuracy: 0.80 (+/- 0.04) [0 1 0 1 0 0 0 0 1 0 1 0 0 1 0 1 1 1 0 1]\n",
      "Accuracy: 0.81 (+/- 0.05) [1 0 1 1 0 0 1 1 1 1 0 1 1 1 0 1 0 1 1 0]\n",
      "Accuracy: 0.88 (+/- 0.07) [0 1 0 1 0 1 0 0 1 0 0 1 0 1 0 0 1 0 1 1]\n",
      "Accuracy: 0.85 (+/- 0.04) [0 1 1 1 0 1 1 1 1 0 1 1 1 1 0 0 1 1 1 0]\n",
      "Accuracy: 0.85 (+/- 0.02) [0 0 0 0 1 1 1 0 1 1 1 1 0 1 0 1 0 0 1 1]\n",
      "Accuracy: 0.85 (+/- 0.05) [1 1 1 1 1 1 0 0 1 1 1 1 0 1 1 1 0 0 0 1]\n",
      "Accuracy: 0.91 (+/- 0.04) [0 1 1 0 0 1 0 0 0 0 0 0 0 1 1 1 0 0 1 0]\n",
      "Accuracy: 0.86 (+/- 0.03) [0 1 0 1 1 1 0 0 1 0 0 1 1 1 1 1 1 1 0 0]\n",
      "Accuracy: 0.84 (+/- 0.05) [0 1 0 0 0 0 0 1 1 0 0 1 1 1 0 1 1 1 1 0]\n",
      "Accuracy: 0.85 (+/- 0.04) [1 1 0 0 0 1 1 1 1 1 1 0 0 0 1 0 1 1 1 1]\n",
      "Accuracy: 0.87 (+/- 0.05) [1 1 0 1 1 1 1 0 1 0 1 0 0 0 0 1 0 1 1 1]\n",
      "Accuracy: 0.84 (+/- 0.04) [0 1 0 1 0 1 1 1 1 1 1 1 0 0 0 0 0 0 1 1]\n",
      "Accuracy: 0.86 (+/- 0.04) [1 1 0 0 1 1 1 0 1 1 1 1 0 1 1 0 0 0 1 0]\n",
      "Accuracy: 0.87 (+/- 0.05) [0 0 0 1 0 1 0 0 1 1 0 1 0 1 0 1 0 0 1 1]\n"
     ]
    }
   ],
   "source": [
    "from sklearn.model_selection import cross_val_score\n",
    "# Create two instances of LogisticRegression\n",
    "#classfier = linear_model.LogisticRegression()\n",
    "classifier = RandomForestClassifier(n_estimators = 64,\n",
    "                                    #max_features = 30,\n",
    "                                    bootstrap = True,\n",
    "                                    random_state = None)\n",
    "\n",
    "scores = cross_val_score(classifier, X, y, cv=5)\n",
    "print(\"Full set Accuracy: %0.2f (+/- %0.2f)\" % (scores.mean(), scores.std() * 2))\n",
    "print(\"----------------------------------------------------------------------------\")\n",
    "bests = optimizer.personal_best_pos #optimizer.get_pos_history\n",
    "for b in bests:\n",
    "    # Get the selected features from the final positions\n",
    "    X_selected_features = X[:,b==1]  # subset\n",
    "\n",
    "    # Perform classification and store performance in P\n",
    "    #classifier.fit(X_selected_features, y)\n",
    "    scores = cross_val_score(classifier, X_selected_features, y, cv=5)\n",
    "    print(\"Accuracy: %0.2f (+/- %0.2f)\" % (scores.mean(), scores.std() * 2), b)\n",
    "    \n",
    "    # Compute performance\n",
    "    #subset_performance = (c1.predict(X_selected_features) == y).mean()\n",
    "    #subset_performance = (classifier.predict(X_selected_features) == y).mean()\n",
    "    \n",
    "\n",
    "    #print('Subset performance: %.3f' % (subset_performance))"
   ]
  },
  {
   "cell_type": "markdown",
   "metadata": {
    "collapsed": true
   },
   "source": [
    "# Ignore below"
   ]
  },
  {
   "cell_type": "code",
   "execution_count": 121,
   "metadata": {},
   "outputs": [
    {
     "name": "stdout",
     "output_type": "stream",
     "text": [
      "Accuracy full set: 0.89 (+/- 0.10) len: 20\n"
     ]
    },
    {
     "ename": "IndexError",
     "evalue": "boolean index did not match indexed array along dimension 1; dimension is 20 but corresponding boolean dimension is 10",
     "output_type": "error",
     "traceback": [
      "\u001b[1;31m---------------------------------------------------------------------------\u001b[0m",
      "\u001b[1;31mIndexError\u001b[0m                                Traceback (most recent call last)",
      "\u001b[1;32m<ipython-input-121-fdf7ba348966>\u001b[0m in \u001b[0;36m<module>\u001b[1;34m()\u001b[0m\n\u001b[0;32m     10\u001b[0m \u001b[1;33m\u001b[0m\u001b[0m\n\u001b[0;32m     11\u001b[0m \u001b[1;31m# Get the selected features from the final positions\u001b[0m\u001b[1;33m\u001b[0m\u001b[1;33m\u001b[0m\u001b[0m\n\u001b[1;32m---> 12\u001b[1;33m \u001b[0mX_selected_featuresPSO\u001b[0m \u001b[1;33m=\u001b[0m \u001b[0mX\u001b[0m\u001b[1;33m[\u001b[0m\u001b[1;33m:\u001b[0m\u001b[1;33m,\u001b[0m\u001b[0mpos\u001b[0m\u001b[1;33m==\u001b[0m\u001b[1;36m1\u001b[0m\u001b[1;33m]\u001b[0m  \u001b[1;31m# subset\u001b[0m\u001b[1;33m\u001b[0m\u001b[0m\n\u001b[0m\u001b[0;32m     13\u001b[0m \u001b[0mX_selected_featuresReal\u001b[0m \u001b[1;33m=\u001b[0m \u001b[0mX\u001b[0m\u001b[1;33m[\u001b[0m\u001b[1;33m:\u001b[0m\u001b[1;33m,\u001b[0m\u001b[1;36m0\u001b[0m\u001b[1;33m:\u001b[0m\u001b[1;36m5\u001b[0m\u001b[1;33m]\u001b[0m \u001b[1;31m#real subset\u001b[0m\u001b[1;33m\u001b[0m\u001b[0m\n\u001b[0;32m     14\u001b[0m \u001b[1;33m\u001b[0m\u001b[0m\n",
      "\u001b[1;31mIndexError\u001b[0m: boolean index did not match indexed array along dimension 1; dimension is 20 but corresponding boolean dimension is 10"
     ]
    }
   ],
   "source": [
    "# Create two instances of LogisticRegression\n",
    "#classfier = linear_model.LogisticRegression()\n",
    "classifier = RandomForestClassifier(n_estimators = 64,\n",
    "                                    #max_features = 30,\n",
    "                                    bootstrap = True,\n",
    "                                    random_state = None)\n",
    "\n",
    "scores = cross_val_score(classifier, X, y, cv=10)\n",
    "print(\"Accuracy full set: %0.2f (+/- %0.2f)\" % (scores.mean(), scores.std() * 2), \"len:\",X.shape[1])\n",
    "\n",
    "# Get the selected features from the final positions\n",
    "X_selected_featuresPSO = X[:,pos==1]  # subset\n",
    "X_selected_featuresReal = X[:,0:5] #real subset\n",
    "\n",
    "# Perform classification and store performance in P\n",
    "#classifier.fit(X_selected_features, y)\n",
    "scoresReal = cross_val_score(classifier, X_selected_featuresReal, y, cv=10)\n",
    "scoresPSO = cross_val_score(classifier, X_selected_featuresPSO, y, cv=10)\n",
    "\n",
    "# Compute performance\n",
    "#subset_performance = (c1.predict(X_selected_features) == y).mean()\n",
    "#subset_performance = (classifier.predict(X_selected_features) == y).mean()\n",
    "\n",
    "#print('Subset performance: %.3f' % (subset_performance))\n",
    "print(\"Accuracy Real subset: %0.2f (+/- %0.2f)\" % (scoresReal.mean(), scoresReal.std() * 2), \"len:\", X_selected_featuresReal.shape[1])\n",
    "print(\"Accuracy PSO subset: %0.2f (+/- %0.2f)\" % (scoresPSO.mean(), scoresPSO.std() * 2), \"len:\", X_selected_featuresPSO.shape[1])"
   ]
  },
  {
   "cell_type": "code",
   "execution_count": null,
   "metadata": {
    "collapsed": true
   },
   "outputs": [],
   "source": [
    "from sklearn.model_selection import cross_val_score\n",
    "# Create two instances of LogisticRegression\n",
    "#classfier = linear_model.LogisticRegression()\n",
    "classifier = RandomForestClassifier(n_estimators = 64,\n",
    "                                    #max_features = 30,\n",
    "                                    bootstrap = True,\n",
    "                                    random_state = None)\n",
    "\n",
    "scores = cross_val_score(classifier, X, y, cv=5)\n",
    "print(\"Full set Accuracy: %0.2f (+/- %0.2f)\" % (scores.mean(), scores.std() * 2))\n",
    "print(\"----------------------------------------------------------------------------\")\n",
    "bests = optimizer.personal_best_pos #optimizer.personal_best_pos\n",
    "for best in bests:\n",
    "    for b in best:\n",
    "        # Get the selected features from the final positions\n",
    "        X_selected_features = X[:,b==1]  # subset\n",
    "\n",
    "        # Perform classification and store performance in P\n",
    "        #classifier.fit(X_selected_features, y)\n",
    "        scores = cross_val_score(classifier, X_selected_features, y, cv=5)\n",
    "\n",
    "        # Compute performance\n",
    "        #subset_performance = (c1.predict(X_selected_features) == y).mean()\n",
    "        #subset_performance = (classifier.predict(X_selected_features) == y).mean()\n",
    "        print(\"Accuracy: %0.2f (+/- %0.2f)\" % (scores.mean(), scores.std() * 2), b)\n",
    "\n",
    "    #print('Subset performance: %.3f' % (subset_performance))"
   ]
  },
  {
   "cell_type": "markdown",
   "metadata": {},
   "source": [
    "Another important advantage that we have is that we were able to reduce the features (or do dimensionality reduction) on our data. This can save us from the [curse of dimensionality](http://www.stat.ucla.edu/~sabatti/statarray/textr/node5.html), and may in fact speed up our classification.\n",
    "\n",
    "Let's plot the feature subset that we have:"
   ]
  },
  {
   "cell_type": "code",
   "execution_count": null,
   "metadata": {
    "collapsed": true
   },
   "outputs": [],
   "source": [
    "# Plot toy dataset per feature\n",
    "df1 = pd.DataFrame(X_selected_features)\n",
    "df1['labels'] = pd.Series(y)\n",
    "\n",
    "sns.pairplot(df1, hue='labels')"
   ]
  }
 ],
 "metadata": {
  "kernelspec": {
   "display_name": "Python 3",
   "language": "python",
   "name": "python3"
  },
  "language_info": {
   "codemirror_mode": {
    "name": "ipython",
    "version": 3
   },
   "file_extension": ".py",
   "mimetype": "text/x-python",
   "name": "python",
   "nbconvert_exporter": "python",
   "pygments_lexer": "ipython3",
   "version": "3.6.1"
  }
 },
 "nbformat": 4,
 "nbformat_minor": 2
}
